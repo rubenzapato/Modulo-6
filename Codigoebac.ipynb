{
 "cells": [
  {
   "cell_type": "code",
   "execution_count": 4,
   "metadata": {},
   "outputs": [
    {
     "name": "stdout",
     "output_type": "stream",
     "text": [
      "Carrito de compras\n",
      "\n",
      " Productos Disponibles: 1.- Pan 2.- Jamón 3.- Crema 4.- Mayonesa 5.- Lechuga 6.-Papas 7.Chocolate 8. Alpiste \n",
      "Ingresa una lista con los productos en este formato: [[Cantidad,Producto]]\n",
      "Por ejemplo: [[1,1], [3,2]] significa 1 Pan y 3 Jamón\n",
      "\n",
      "\n",
      "Tu carrito es:\n",
      "3 Mayonesa\n",
      "5 Chocolate\n",
      "1 Jamón\n",
      "2 Alpiste\n"
     ]
    }
   ],
   "source": [
    "print(\"Carrito de compras\\n\") \n",
    "print(\"\"\" Productos Disponibles: 1.- Pan 2.- Jamón 3.- Crema 4.- Mayonesa 5.- Lechuga 6.-Papas 7.Chocolate 8. Alpiste \"\"\")\n",
    "print(\"Ingresa una lista con los productos en este formato: [[Cantidad,Producto]]\") \n",
    "print(\"Por ejemplo: [[1,1], [3,2]] significa 1 Pan y 3 Jamón\" ) \n",
    "my_shopping_cart = eval(input()) \n",
    "print(\"\\n\\nTu carrito es:\") \n",
    "if type(my_shopping_cart) == list:   \n",
    "    if type(my_shopping_cart[0]) == list:      \n",
    "        for element in my_shopping_cart:        \n",
    "            product = \"\"         \n",
    "            if element[1] == 1:       \n",
    "                product = \"Pan\"        \n",
    "            if element[1] == 2:       \n",
    "                product = \"Jamón\"  \n",
    "            if element[1] == 3:       \n",
    "                product = \"Crema\"    \n",
    "            if element[1] == 4:      \n",
    "                product = \"Mayonesa\"            \n",
    "            if element[1] == 5:                \n",
    "                product = \"Lechuga\"\n",
    "            if element[1] ==  6:\n",
    "                product = \"papas\"\n",
    "            if element[1] == 7:\n",
    "                product = \"Chocolate\"\n",
    "            if element[1] == 8:\n",
    "                product = \"Alpiste\"\n",
    "            \n",
    "\n",
    "\n",
    "            print(\"{} {}\".format(element[0], product))  \n",
    "    else:       \n",
    "        print(\"Formato incorrecto, debes ingresar una lista de listas\")\n",
    "else:  \n",
    "    print(\"Formato incorrecto, debes ingresar una lista de listas\")"
   ]
  }
 ],
 "metadata": {
  "kernelspec": {
   "display_name": "Python 3",
   "language": "python",
   "name": "python3"
  },
  "language_info": {
   "codemirror_mode": {
    "name": "ipython",
    "version": 3
   },
   "file_extension": ".py",
   "mimetype": "text/x-python",
   "name": "python",
   "nbconvert_exporter": "python",
   "pygments_lexer": "ipython3",
   "version": "3.12.0"
  }
 },
 "nbformat": 4,
 "nbformat_minor": 2
}
